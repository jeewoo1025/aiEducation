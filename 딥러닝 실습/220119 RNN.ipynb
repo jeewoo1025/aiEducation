{
 "cells": [
  {
   "cell_type": "markdown",
   "metadata": {},
   "source": [
    "## 파이썬으로 RNN 구현하기\n",
    "\n",
    "아래의 코드는 (timesteps, input_size) 크기의 2D 텐서를 입력으로 받았다고 가정하였으나,\n",
    "실제로 PyTorch에서는 (batch_size, timesteps, input_size)의 크기의 3D 텐서를 입력으로 받는 것을 기억하자!"
   ]
  },
  {
   "cell_type": "code",
   "execution_count": 1,
   "metadata": {},
   "outputs": [],
   "source": [
    "import numpy as np\n",
    "\n",
    "timesteps = 10 \n",
    "input_size = 4 \n",
    "hidden_size = 8 \n",
    "\n",
    "inputs = np.random.random((timesteps, input_size))\n",
    "hidden_state_t = np.zeros((hidden_size,))"
   ]
  },
  {
   "cell_type": "code",
   "execution_count": 2,
   "metadata": {},
   "outputs": [
    {
     "data": {
      "text/plain": [
       "array([0., 0., 0., 0., 0., 0., 0., 0.])"
      ]
     },
     "execution_count": 2,
     "metadata": {},
     "output_type": "execute_result"
    }
   ],
   "source": [
    "hidden_state_t"
   ]
  },
  {
   "cell_type": "code",
   "execution_count": 3,
   "metadata": {},
   "outputs": [],
   "source": [
    "Wx = np.random.random((hidden_size, input_size))    # (8,4) 크기의 2D 텐서 생성\n",
    "Wh = np.random.random((hidden_size, hidden_size))   # (8,8) 크기의 2D 텐서 \n",
    "b = np.random.random((hidden_size,))  # (8, ) 크기의 1D 텐서 생성. 이 값은 편향"
   ]
  },
  {
   "cell_type": "code",
   "execution_count": 4,
   "metadata": {},
   "outputs": [
    {
     "name": "stdout",
     "output_type": "stream",
     "text": [
      "(8, 4)\n",
      "(8, 8)\n",
      "(8,)\n"
     ]
    }
   ],
   "source": [
    "print(np.shape(Wx))\n",
    "print(np.shape(Wh))\n",
    "print(np.shape(b))"
   ]
  },
  {
   "cell_type": "code",
   "execution_count": 5,
   "metadata": {},
   "outputs": [
    {
     "name": "stdout",
     "output_type": "stream",
     "text": [
      "(1, 8)\n",
      "(2, 8)\n",
      "(3, 8)\n",
      "(4, 8)\n",
      "(5, 8)\n",
      "(6, 8)\n",
      "(7, 8)\n",
      "(8, 8)\n",
      "(9, 8)\n",
      "(10, 8)\n",
      "[[0.63706639 0.5137385  0.90002786 0.87187487 0.88196274 0.67859137\n",
      "  0.93902752 0.84320067]\n",
      " [0.9988908  0.99878151 0.99990312 0.99996943 0.99994061 0.99954123\n",
      "  0.99999142 0.99979348]\n",
      " [0.99902231 0.99916265 0.99997067 0.99998923 0.99996478 0.99989813\n",
      "  0.99999543 0.9998444 ]\n",
      " [0.99955481 0.99927557 0.99995287 0.9999951  0.99995227 0.99978143\n",
      "  0.99998976 0.99992278]\n",
      " [0.99936762 0.99939231 0.99996893 0.99999092 0.99991191 0.99974111\n",
      "  0.99999354 0.99988005]\n",
      " [0.99976494 0.99973464 0.99999147 0.99999679 0.99998953 0.99995754\n",
      "  0.99999913 0.99996007]\n",
      " [0.99978817 0.99951681 0.99996214 0.99999754 0.99996833 0.99980327\n",
      "  0.99999367 0.99995509]\n",
      " [0.99900922 0.99859494 0.99990634 0.99999053 0.99992281 0.99969594\n",
      "  0.99998222 0.99979344]\n",
      " [0.9996422  0.99921573 0.99994965 0.99999684 0.9999811  0.99988191\n",
      "  0.99999303 0.9999309 ]\n",
      " [0.99984762 0.99972332 0.99998892 0.99999828 0.99999421 0.99996459\n",
      "  0.99999899 0.99997322]]\n"
     ]
    }
   ],
   "source": [
    "total_hidden_states = []\n",
    "\n",
    "# 메모리 셀 동작\n",
    "for input_t in inputs:\n",
    "    output_t = np.tanh(np.dot(Wx,input_t) + np.dot(Wh, hidden_state_t) + b)\n",
    "\n",
    "    total_hidden_states.append(list(output_t))\n",
    "\n",
    "    # 각 시점 t별 메모리 셀의 출력 크기는 (timestamp, output_dim)\n",
    "    print(np.shape(total_hidden_states))\n",
    "\n",
    "    hidden_state_t = output_t\n",
    "\n",
    "total_hidden_states = np.stack(total_hidden_states, axis=0)\n",
    "print(total_hidden_states)"
   ]
  },
  {
   "cell_type": "code",
   "execution_count": null,
   "metadata": {},
   "outputs": [],
   "source": []
  }
 ],
 "metadata": {
  "interpreter": {
   "hash": "975adaa33bdd6241222e23cb1553fcd899050d10dc86e144a6598f19462bc660"
  },
  "kernelspec": {
   "display_name": "Python 3.9.7 64-bit ('zeze': conda)",
   "language": "python",
   "name": "python3"
  },
  "language_info": {
   "codemirror_mode": {
    "name": "ipython",
    "version": 3
   },
   "file_extension": ".py",
   "mimetype": "text/x-python",
   "name": "python",
   "nbconvert_exporter": "python",
   "pygments_lexer": "ipython3",
   "version": "3.9.7"
  },
  "orig_nbformat": 4
 },
 "nbformat": 4,
 "nbformat_minor": 2
}
