{
 "cells": [
  {
   "cell_type": "markdown",
   "id": "aeddf7a7",
   "metadata": {},
   "source": [
    "* Overfitting\n",
    "    * Regularization\n",
    "    * Drop-out\n",
    "    \n",
    "* various Optimizers\n",
    "\n",
    "# Dropout"
   ]
  },
  {
   "cell_type": "code",
   "execution_count": null,
   "id": "0a4c9744",
   "metadata": {},
   "outputs": [],
   "source": [
    "# dropout을 얼마나 시킬 것인지에 대한 placeholder 설정\n",
    "keep_prob = tf.placeholder(tf.float32)\n",
    "\n",
    "L1 = tf.sigmoid(tf.matmul(X, W1) + b)\n",
    "L1 = tf.nn.dropout(L1, keep_prob)\n",
    "\n",
    "# 학습할 때 dropout 얼마나 시킬 것인지 설정\n",
    "# 0.75 : 75% node를 활성화 시키겠다\n",
    "_, cost_val = sess.run([optimizer, cost], feed_dict={X:batch_x, Y:batch_y, keep_prob:0.75})\n",
    "\n",
    "# 테스트할 때, dropout을 적용안 할 것이다\n",
    "sess.run(accuracy, feed_dict={X:mnist.test.images, Y:mnist.test.labels, keep_prob:1})"
   ]
  }
 ],
 "metadata": {
  "kernelspec": {
   "display_name": "Python 3 (ipykernel)",
   "language": "python",
   "name": "python3"
  },
  "language_info": {
   "codemirror_mode": {
    "name": "ipython",
    "version": 3
   },
   "file_extension": ".py",
   "mimetype": "text/x-python",
   "name": "python",
   "nbconvert_exporter": "python",
   "pygments_lexer": "ipython3",
   "version": "3.7.11"
  }
 },
 "nbformat": 4,
 "nbformat_minor": 5
}
