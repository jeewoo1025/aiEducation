{
 "cells": [
  {
   "cell_type": "markdown",
   "metadata": {},
   "source": [
    "## Attention\n",
    "\n",
    "Long term dependency를 해결하기 위해 사용함 <br>\n",
    "\n",
    "### Why 등장?\n",
    "* Attention mechanism = 주의, 집중\n",
    "어느 한 문장의 words 중에서도 task 성능에 영향을 끼치는 정도(가중치)가 word마다 다르다.\n",
    "이러한 단어들을 활용해서 학습을 시키면 좋은 성능의 학습 모델을 만들 수 있지 않을까?\n",
    "<br>\n",
    "\n",
    "rnn은 문장의 순차적 특성을 유지.\n",
    "하지만, 두 정보 사이의 거리가 멀 때 해당 정보를 이용하지 못하는 문제가 발생한다. (<span style=\"color:red;\">Long-term dependency problem</span>)\n",
    "<br>\n",
    "\n",
    "rnn은 학습 시 t번째 hidden state를 얻기 위해 t-1번째 hidden state가 필요하기 때문, 즉 순서대로 계산되어야 하기 때문에 <br>\n",
    "→ <b>병렬 처리 불가능 & 속도가 느림 (Parallelization)</b><br>\n",
    "→ Tensorflow 같이 gpu 사용에 대해서 매우 치명적인 단점!\n",
    "<br><br>\n",
    "\n",
    "### idea\n",
    "| Attention : 모델이 중요한 부분에 <b>집중</b>하게 만들자!\n",
    "\n",
    "* decoder에서 출력 단어를 예측하는 매 시점마다 <span style=\"color:red;\">Encoder에서의 전체 입력 문장을 다시 참고</span>\n",
    "* 동일한 비율로 참고하는 것이 아닌 해당 시점에서 <span style=\"color:red;\">예측해야 할 단어와 연관있는 입력 단어 부분에 좀 더 집중(Attention)해서 보겠다.</span>\n",
    "<br><br>\n",
    "\n",
    "### Attention Function\n",
    "| Attention(Q, K, V) = Attention Value\n",
    "\n",
    "1. Query에 대해 모든 Key와의 유사도를 각각 구함\n",
    "2. 이 유사도를 키와 매핑되어 있는 각각의 Value에 반영\n",
    "3. 유사도가 반영된 Value를 모두 더해서 리턴 (이 값이 Attention Value)\n",
    "\n",
    "* Query = decoder의 t-1 셀에서의 은닉 상태\n",
    "* Keys = 모든 Encoder 셀의 은닉 상태들\n",
    "* Values = 모든 Encoder 셀의 은닉 상태들\n"
   ]
  },
  {
   "cell_type": "code",
   "execution_count": null,
   "metadata": {},
   "outputs": [],
   "source": [
    "# Attention의 유사도를 구함\n",
    "w_omega = tf.Variable(tf.random_normal([hidden_size, attention_size], stddev=0.1))\n",
    "b_omega = tf.Variable(tf.random_normal([attention_size], stddev=0.1))\n",
    "u_omega = tf.Variable(tf.random_normal([attention_size], stddev=0.1))\n",
    "\n",
    "with tf.name_scope('v'):\n",
    "    v = tf.tanh(tf.tensordot(inputs, w_omega, axes=1) + b_omega)\n",
    "\n",
    "vu = tf.tensordot(v, u_omega, axes=1, name='vu')\n",
    "\n",
    "# softmax 함수\n",
    "alphas = tf.nn.softmax(vu, name='alphas')\n",
    "\n",
    "# Weighted sum\n",
    "output = tf.reduce_sum(inputs*tf.expand_dims(alphas, -1), 1)\n"
   ]
  },
  {
   "cell_type": "code",
   "execution_count": 2,
   "metadata": {},
   "outputs": [],
   "source": [
    "import tensorflow as tf\n",
    "import numpy as np"
   ]
  },
  {
   "cell_type": "code",
   "execution_count": 4,
   "metadata": {},
   "outputs": [],
   "source": [
    "# S : 디코딩 입력의 시작을 나타내는 심볼\n",
    "# E : 디코딩 출력의 끝을 나타내는 심볼\n",
    "# P : padding token\n",
    "char_arr = [c for c in 'SEPabcdefghijklmnopqrstuvwxyz단어나무놀이키스사랑']\n",
    "num_dic = {n:i for i,n in enumerate(char_arr)}\n",
    "dic_len = len(num_dic)\n",
    "\n",
    "# 영어를 한글로 번역하기 위한 학습 데이터\n",
    "seq_data = [['word', '단어'], ['wood','나무'], ['game', '놀이'], ['girl', '소녀'], ['kiss', '키스'], ['love', '사랑']]\n",
    "\n",
    "def make_batch(seq_data):\n",
    "    input_batch = []\n",
    "    output_batch = []\n",
    "    target_batch = []\n",
    "\n",
    "    for seq in seq_data:\n",
    "        # 인코더 셀의 입력값. 입력단어의 글자들을 한글자씩 떼어 배열로 만듦\n",
    "        # e.g.) w, o, r, d\n",
    "        input = [num_dic[n] for n in seq[0]]\n",
    "\n",
    "        # 디코더 셀의 입력값. 시작을 나타내는 S 심볼을 맨 앞에 붙여줌\n",
    "        # e.g.) S, 단, 어\n",
    "        output = [num_dic[n] for n in ('S' + seq[1])]\n",
    "\n",
    "        # 학습을 위해 비교할 디코더 셀의 출력값. 끝나는 것을 알려주기 위해 마지막에 E를 붙인다\n",
    "        # e.g.) 단, 어, E\n",
    "        target = [num_dic[n] for n in (seq[1] + 'E')]\n",
    "\n",
    "        input_batch.append(np.eye(dic_len)[input])\n",
    "        output_batch.append(np.eye(dic_len)[output])\n",
    "    \n",
    "        # 출력값만 one-hot 인코딩이 아님 (Sparse_softmax_cross_entropy_with_logits 사용)\n",
    "        target_batch.append(target)\n",
    "\n",
    "    return input_batch, output_batch, target_batch"
   ]
  },
  {
   "cell_type": "code",
   "execution_count": 5,
   "metadata": {},
   "outputs": [
    {
     "name": "stdout",
     "output_type": "stream",
     "text": [
      "WARNING:tensorflow:From C:\\Users\\SULJEE~1\\AppData\\Local\\Temp/ipykernel_456/2106175472.py:20: BasicRNNCell.__init__ (from tensorflow.python.ops.rnn_cell_impl) is deprecated and will be removed in a future version.\n",
      "Instructions for updating:\n",
      "This class is equivalent as tf.keras.layers.SimpleRNNCell, and will be replaced by that in Tensorflow 2.0.\n",
      "WARNING:tensorflow:From C:\\Users\\SULJEE~1\\AppData\\Local\\Temp/ipykernel_456/2106175472.py:23: dynamic_rnn (from tensorflow.python.ops.rnn) is deprecated and will be removed in a future version.\n",
      "Instructions for updating:\n",
      "Please use `keras.layers.RNN(cell)`, which is equivalent to this API\n",
      "WARNING:tensorflow:From C:\\Users\\suljeewoo\\anaconda3\\envs\\tensorflow\\lib\\site-packages\\tensorflow\\python\\ops\\tensor_array_ops.py:162: colocate_with (from tensorflow.python.framework.ops) is deprecated and will be removed in a future version.\n",
      "Instructions for updating:\n",
      "Colocations handled automatically by placer.\n",
      "WARNING:tensorflow:From C:\\Users\\suljeewoo\\anaconda3\\envs\\tensorflow\\lib\\site-packages\\tensorflow\\python\\ops\\rnn_cell_impl.py:1259: calling dropout (from tensorflow.python.ops.nn_ops) with keep_prob is deprecated and will be removed in a future version.\n",
      "Instructions for updating:\n",
      "Please use `rate` instead of `keep_prob`. Rate should be set to `rate = 1 - keep_prob`.\n",
      "WARNING:tensorflow:From C:\\Users\\SULJEE~1\\AppData\\Local\\Temp/ipykernel_456/2106175472.py:33: dense (from tensorflow.python.layers.core) is deprecated and will be removed in a future version.\n",
      "Instructions for updating:\n",
      "Use keras.layers.dense instead.\n"
     ]
    }
   ],
   "source": [
    "# 옵션 설정\n",
    "learning_rate = 0.01\n",
    "n_hidden = 128\n",
    "total_epoch = 100\n",
    "\n",
    "# 입력과 출력의 형태가 one-hot encoding과 같으므로 크기도 같다\n",
    "n_class = n_input = dic_len\n",
    "\n",
    "## 신경망 모델 구성\n",
    "# Seq2Seq 모델은 인코더의 입력과 디코더의 입력의 형식이 같다\n",
    "# [batch_size, time_steps, input_size]\n",
    "enc_input = tf.placeholder(tf.float32, [None, None, n_input])\n",
    "dec_input = tf.placeholder(tf.float32, [None, None, n_input])\n",
    "\n",
    "# [batch_size, time_steps]\n",
    "targets = tf.placeholder(tf.int64, [None, None])\n",
    "\n",
    "## 인코더 셀을 구성한다\n",
    "with tf.variable_scope('encode'):\n",
    "    enc_cell = tf.nn.rnn_cell.BasicRNNCell(n_hidden)\n",
    "    enc_cell = tf.nn.rnn_cell.DropoutWrapper(enc_cell, output_keep_prob=0.5)\n",
    "\n",
    "    outputs, enc_states = tf.nn.dynamic_rnn(enc_cell, enc_input, dtype=tf.float32)\n",
    "\n",
    "## 디코더 셀을 구한다\n",
    "with tf.variable_scope('decode'):\n",
    "    dec_cell = tf.nn.rnn_cell.BasicRNNCell(n_hidden)\n",
    "    dec_cell = tf.nn.rnn_cell.DropoutWrapper(dec_cell, output_keep_prob=0.5)\n",
    "\n",
    "    # Seq2Seq 모델은 인코더 셀의 최종 상태값을 디코더 셀의 초기 상태값으로 넣어주는 것이 핵심!\n",
    "    outputs, dec_states = tf.nn.dynamic_rnn(dec_cell, dec_input, initial_state=enc_states, dtype=tf.float32)\n",
    "\n",
    "model = tf.layers.dense(outputs, n_class, activation=None)\n",
    "cost = tf.reduce_mean(tf.nn.sparse_softmax_cross_entropy_with_logits(logits=model, labels=targets))\n",
    "optimizer = tf.train.AdamOptimizer(learning_rate).minimize(cost)"
   ]
  },
  {
   "cell_type": "code",
   "execution_count": null,
   "metadata": {},
   "outputs": [],
   "source": []
  }
 ],
 "metadata": {
  "interpreter": {
   "hash": "3354ff924175df80e4a6667ab2133fd90d36bf3622cc87205a6c43221272165c"
  },
  "kernelspec": {
   "display_name": "Python 3.7.11 64-bit ('tensorflow': conda)",
   "language": "python",
   "name": "python3"
  },
  "language_info": {
   "codemirror_mode": {
    "name": "ipython",
    "version": 3
   },
   "file_extension": ".py",
   "mimetype": "text/x-python",
   "name": "python",
   "nbconvert_exporter": "python",
   "pygments_lexer": "ipython3",
   "version": "3.7.11"
  },
  "orig_nbformat": 4
 },
 "nbformat": 4,
 "nbformat_minor": 2
}
