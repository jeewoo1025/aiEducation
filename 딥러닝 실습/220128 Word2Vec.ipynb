{
 "cells": [
  {
   "cell_type": "code",
   "execution_count": 1,
   "metadata": {},
   "outputs": [],
   "source": [
    "import torch\n",
    "import torch.nn as nn\n",
    "import torch.optim as optim"
   ]
  },
  {
   "cell_type": "code",
   "execution_count": 2,
   "metadata": {},
   "outputs": [],
   "source": [
    "def make_batch():\n",
    "    input_batch = []\n",
    "    target_batch = []\n",
    "\n",
    "    for sen in sentences:\n",
    "        # ex) I like dog\n",
    "        word = sen.split()  # space tokenizer\n",
    "        input = [word_dict[n] for n in word[:-1]]   # 앞에 N개의 단어 (I - 3, like - 0)\n",
    "        target = word_dict[word[-1]]       # 예측할 단어 (dog - 6)\n",
    "\n",
    "        input_batch.append(input)\n",
    "        target_batch.append(target)\n",
    "\n",
    "    return input_batch, target_batch"
   ]
  },
  {
   "cell_type": "code",
   "execution_count": 3,
   "metadata": {},
   "outputs": [],
   "source": [
    "# Model\n",
    "class NNLM(nn.Module):\n",
    "    def __init__(self):\n",
    "        super(NNLM, self).__init__()\n",
    "        self.C = nn.Embedding(n_class, m)\n",
    "        self.H = nn.Linear(n_step*m, n_hidden, bias=False)\n",
    "        self.d = nn.Parameter(torch.ones(n_hidden))\n",
    "        self.U = nn.Linear(n_hidden, n_class, bias=False)\n",
    "        self.W = nn.Linear(n_step*m, n_class, bias=False)\n",
    "        self.b = nn.Parameter(torch.ones(n_class))\n",
    "\n",
    "    def forward(self, X):\n",
    "        X = self.C(X)   # X : [batch_size, n_step, m]\n",
    "        X = X.view(-1, n_step*m)    # [batch_size, n_step*m]\n",
    "        tanh = torch.tanh(self.d + self.H(X))   # [batch_size, n_hidden]\n",
    "        output = self.b + self.W(X) + self.U(tanh)  # [batch_size, n_class]\n",
    "        return output\n",
    "\n"
   ]
  },
  {
   "cell_type": "code",
   "execution_count": 9,
   "metadata": {},
   "outputs": [
    {
     "name": "stdout",
     "output_type": "stream",
     "text": [
      "V : 7\n"
     ]
    }
   ],
   "source": [
    "n_step = 2\n",
    "n_hidden = 2\n",
    "m = 2\n",
    "\n",
    "sentences = [\"I like dog\", \"I love coffee\", \"I hate milk\"]\n",
    "\n",
    "word_list = \" \".join(sentences).split()\n",
    "word_list = list(set(word_list))    # ['like', 'milk', 'coffee', 'I', 'hate', 'love', 'dog']\n",
    "word_dict = {w:i for i,w in enumerate(word_list)}   # ex) 'like' : 0\n",
    "number_dict = {i:w for i,w in enumerate(word_list)} # ex) 0 : 'like'\n",
    "n_class = len(word_dict)    # number of Vocabulary\n",
    "print('V :', n_class)\n"
   ]
  },
  {
   "cell_type": "code",
   "execution_count": 10,
   "metadata": {},
   "outputs": [],
   "source": [
    "# model 선언\n",
    "model = NNLM()"
   ]
  },
  {
   "cell_type": "code",
   "execution_count": 12,
   "metadata": {},
   "outputs": [],
   "source": [
    "criterion = nn.CrossEntropyLoss()   # cost function\n",
    "optimizer = optim.Adam(model.parameters(), lr=0.001)    # 최적화"
   ]
  },
  {
   "cell_type": "code",
   "execution_count": 16,
   "metadata": {},
   "outputs": [
    {
     "name": "stdout",
     "output_type": "stream",
     "text": [
      "input_batch : [[3, 0], [3, 5], [3, 4]]\n",
      "target_batch : [6, 2, 1]\n"
     ]
    }
   ],
   "source": [
    "input_batch, target_batch = make_batch()\n",
    "print('input_batch :', input_batch)\n",
    "print('target_batch :', target_batch)\n",
    "\n",
    "input_batch = torch.LongTensor(input_batch)\n",
    "target_batch = torch.LongTensor(target_batch)"
   ]
  },
  {
   "cell_type": "code",
   "execution_count": 17,
   "metadata": {},
   "outputs": [
    {
     "name": "stdout",
     "output_type": "stream",
     "text": [
      "After input : torch.Size([3, 2]), target : torch.Size([3])\n"
     ]
    }
   ],
   "source": [
    "print('After input : {}, target : {}'.format(input_batch.shape, output_batch.shape))"
   ]
  },
  {
   "cell_type": "code",
   "execution_count": 18,
   "metadata": {},
   "outputs": [
    {
     "name": "stdout",
     "output_type": "stream",
     "text": [
      "Epoch: 1000 cost = 0.079087\n",
      "Epoch: 2000 cost = 0.012405\n",
      "Epoch: 3000 cost = 0.004127\n",
      "Epoch: 4000 cost = 0.001769\n",
      "Epoch: 5000 cost = 0.000858\n"
     ]
    }
   ],
   "source": [
    "# Training\n",
    "for epoch in range(5000):\n",
    "    optimizer.zero_grad()\n",
    "    output = model(input_batch)     # 순전파\n",
    "\n",
    "    # output : [batch_size, n_class]\n",
    "    # target : [batch_size]\n",
    "    loss = criterion(output, target_batch)  # 손실함수\n",
    "    if (epoch+1)%1000==0:\n",
    "        print('Epoch:', '%04d' % (epoch + 1), 'cost =', '{:.6f}'.format(loss))\n",
    "    \n",
    "    loss.backward()     # 역전파\n",
    "    optimizer.step()    # learning rate만큼 이동"
   ]
  },
  {
   "cell_type": "code",
   "execution_count": 25,
   "metadata": {},
   "outputs": [],
   "source": [
    "# Predict\n",
    "predict = model(input_batch).data.max(1, keepdim=True)[1]"
   ]
  },
  {
   "cell_type": "code",
   "execution_count": 29,
   "metadata": {},
   "outputs": [
    {
     "name": "stdout",
     "output_type": "stream",
     "text": [
      "predict : tensor([[6],\n",
      "        [2],\n",
      "        [1]]) , shape= torch.Size([3, 1])\n",
      "After squeeze() : tensor([6, 2, 1]) torch.Size([3])\n",
      "Tensor  tensor(6) 의 item :  6\n"
     ]
    }
   ],
   "source": [
    "print('predict :', predict, ', shape=', predict.shape)\n",
    "\n",
    "sqz = predict.squeeze()\n",
    "print('After squeeze() :', sqz, sqz.shape)\n",
    "\n",
    "print('Tensor ', sqz[0],'의 item : ', sqz[0].item())"
   ]
  },
  {
   "cell_type": "code",
   "execution_count": 30,
   "metadata": {},
   "outputs": [
    {
     "name": "stdout",
     "output_type": "stream",
     "text": [
      "[['I', 'like'], ['I', 'love'], ['I', 'hate']] → ['dog', 'coffee', 'milk']\n"
     ]
    }
   ],
   "source": [
    "# Test\n",
    "print([sen.split()[:2] for sen in sentences], '→', [number_dict[n.item()] for n in predict.squeeze()])"
   ]
  },
  {
   "cell_type": "code",
   "execution_count": null,
   "metadata": {},
   "outputs": [],
   "source": []
  }
 ],
 "metadata": {
  "interpreter": {
   "hash": "975adaa33bdd6241222e23cb1553fcd899050d10dc86e144a6598f19462bc660"
  },
  "kernelspec": {
   "display_name": "Python 3.9.7 64-bit ('zeze': conda)",
   "language": "python",
   "name": "python3"
  },
  "language_info": {
   "codemirror_mode": {
    "name": "ipython",
    "version": 3
   },
   "file_extension": ".py",
   "mimetype": "text/x-python",
   "name": "python",
   "nbconvert_exporter": "python",
   "pygments_lexer": "ipython3",
   "version": "3.9.7"
  },
  "orig_nbformat": 4
 },
 "nbformat": 4,
 "nbformat_minor": 2
}
