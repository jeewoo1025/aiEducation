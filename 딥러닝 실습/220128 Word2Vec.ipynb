{
 "cells": [
  {
   "cell_type": "code",
   "execution_count": 1,
   "metadata": {},
   "outputs": [],
   "source": [
    "import torch\n",
    "import torch.nn as nn\n",
    "import torch.optim as optim"
   ]
  },
  {
   "cell_type": "code",
   "execution_count": 2,
   "metadata": {},
   "outputs": [],
   "source": [
    "def make_batch():\n",
    "    input_batch = []\n",
    "    target_batch = []\n",
    "\n",
    "    for sen in sentences:\n",
    "        # ex) I like dog\n",
    "        word = sen.split()  # space tokenizer\n",
    "        input = [word_dict[n] for n in word[:-1]]   # 앞에 N개의 단어 (I - 3, like - 0)\n",
    "        target = word_dict[word[-1]]       # 예측할 단어 (dog - 6)\n",
    "\n",
    "        input_batch.append(input)\n",
    "        target_batch.append(target)\n",
    "\n",
    "    return input_batch, target_batch"
   ]
  },
  {
   "cell_type": "code",
   "execution_count": 3,
   "metadata": {},
   "outputs": [],
   "source": [
    "# Model\n",
    "class NNLM(nn.Module):\n",
    "    def __init__(self):\n",
    "        super(NNLM, self).__init__()\n",
    "        # nn.Embedding(num_embeddings, embedding_dim)\n",
    "        self.C = nn.Embedding(n_class, m)    \n",
    "\n",
    "        # nn.Linear(input_dim, output_dim, bias=T or F(bias 학습 X))\n",
    "        self.H = nn.Linear(n_step*m, n_hidden, bias=False)  \n",
    "        self.d = nn.Parameter(torch.ones(n_hidden))\n",
    "\n",
    "        self.U = nn.Linear(n_hidden, n_class, bias=False)\n",
    "        self.W = nn.Linear(n_step*m, n_class, bias=False)\n",
    "        self.b = nn.Parameter(torch.ones(n_class))\n",
    "\n",
    "    def forward(self, X):   \n",
    "        # 입력 : [n_step, m]\n",
    "        # Embedding layer\n",
    "        X = self.C(X)   # [batch_size, n_step, m]\n",
    "\n",
    "        # Projection Layer\n",
    "        X = X.view(-1, n_step*m)    # [batch_size, n_step*m]\n",
    "\n",
    "        # Hidden Layer\n",
    "        tanh = torch.tanh(self.d + self.H(X))   # [batch_size, n_hidden]\n",
    "\n",
    "        # Output Layer\n",
    "        output = self.b + self.W(X) + self.U(tanh)  # [batch_size, n_class]\n",
    "        return output\n",
    "\n"
   ]
  },
  {
   "cell_type": "code",
   "execution_count": 5,
   "metadata": {},
   "outputs": [
    {
     "name": "stdout",
     "output_type": "stream",
     "text": [
      "n_class : 7\n"
     ]
    }
   ],
   "source": [
    "n_step = 2\n",
    "n_hidden = 2    \n",
    "m = 2   # embedding_dim\n",
    "\n",
    "sentences = [\"I like dog\", \"I love coffee\", \"I hate milk\"]\n",
    "\n",
    "word_list = \" \".join(sentences).split()\n",
    "word_list = list(set(word_list))    # ['like', 'milk', 'coffee', 'I', 'hate', 'love', 'dog']\n",
    "word_dict = {w:i for i,w in enumerate(word_list)}   # ex) 'like' : 0\n",
    "number_dict = {i:w for i,w in enumerate(word_list)} # ex) 0 : 'like'\n",
    "n_class = len(word_dict)    # number of Vocabulary\n",
    "print('n_class :', n_class)\n"
   ]
  },
  {
   "cell_type": "code",
   "execution_count": 10,
   "metadata": {},
   "outputs": [],
   "source": [
    "# model 선언\n",
    "model = NNLM()"
   ]
  },
  {
   "cell_type": "code",
   "execution_count": 12,
   "metadata": {},
   "outputs": [],
   "source": [
    "criterion = nn.CrossEntropyLoss()   # cost function\n",
    "optimizer = optim.Adam(model.parameters(), lr=0.001)    # 최적화"
   ]
  },
  {
   "cell_type": "code",
   "execution_count": 16,
   "metadata": {},
   "outputs": [
    {
     "name": "stdout",
     "output_type": "stream",
     "text": [
      "input_batch : [[3, 0], [3, 5], [3, 4]]\n",
      "target_batch : [6, 2, 1]\n"
     ]
    }
   ],
   "source": [
    "input_batch, target_batch = make_batch()\n",
    "print('input_batch :', input_batch)\n",
    "print('target_batch :', target_batch)\n",
    "\n",
    "input_batch = torch.LongTensor(input_batch)\n",
    "target_batch = torch.LongTensor(target_batch)"
   ]
  },
  {
   "cell_type": "code",
   "execution_count": 17,
   "metadata": {},
   "outputs": [
    {
     "name": "stdout",
     "output_type": "stream",
     "text": [
      "After input : torch.Size([3, 2]), target : torch.Size([3])\n"
     ]
    }
   ],
   "source": [
    "print('After input : {}, target : {}'.format(input_batch.shape, target_batch.shape))"
   ]
  },
  {
   "cell_type": "code",
   "execution_count": 18,
   "metadata": {},
   "outputs": [
    {
     "name": "stdout",
     "output_type": "stream",
     "text": [
      "Epoch: 1000 cost = 0.079087\n",
      "Epoch: 2000 cost = 0.012405\n",
      "Epoch: 3000 cost = 0.004127\n",
      "Epoch: 4000 cost = 0.001769\n",
      "Epoch: 5000 cost = 0.000858\n"
     ]
    }
   ],
   "source": [
    "# Training\n",
    "for epoch in range(5000):\n",
    "    optimizer.zero_grad()\n",
    "    output = model(input_batch)     # 순전파\n",
    "\n",
    "    # output : [batch_size, n_class]\n",
    "    # target : [batch_size]\n",
    "    loss = criterion(output, target_batch)  # 손실함수\n",
    "    if (epoch+1)%1000==0:\n",
    "        print('Epoch:', '%04d' % (epoch + 1), 'cost =', '{:.6f}'.format(loss))\n",
    "    \n",
    "    loss.backward()     # 역전파\n",
    "    optimizer.step()    # learning rate만큼 이동"
   ]
  },
  {
   "cell_type": "code",
   "execution_count": 25,
   "metadata": {},
   "outputs": [],
   "source": [
    "# Predict\n",
    "predict = model(input_batch).data.max(1, keepdim=True)[1]"
   ]
  },
  {
   "cell_type": "code",
   "execution_count": 29,
   "metadata": {},
   "outputs": [
    {
     "name": "stdout",
     "output_type": "stream",
     "text": [
      "predict : tensor([[6],\n",
      "        [2],\n",
      "        [1]]) , shape= torch.Size([3, 1])\n",
      "After squeeze() : tensor([6, 2, 1]) torch.Size([3])\n",
      "Tensor  tensor(6) 의 item :  6\n"
     ]
    }
   ],
   "source": [
    "print('predict :', predict, ', shape=', predict.shape)\n",
    "\n",
    "sqz = predict.squeeze()\n",
    "print('After squeeze() :', sqz, sqz.shape)\n",
    "\n",
    "print('Tensor ', sqz[0],'의 item : ', sqz[0].item())"
   ]
  },
  {
   "cell_type": "code",
   "execution_count": 30,
   "metadata": {},
   "outputs": [
    {
     "name": "stdout",
     "output_type": "stream",
     "text": [
      "[['I', 'like'], ['I', 'love'], ['I', 'hate']] → ['dog', 'coffee', 'milk']\n"
     ]
    }
   ],
   "source": [
    "# Test\n",
    "print([sen.split()[:2] for sen in sentences], '→', [number_dict[n.item()] for n in predict.squeeze()])"
   ]
  },
  {
   "cell_type": "markdown",
   "metadata": {},
   "source": [
    "# Word2Vec\n",
    "\n",
    "## Skip-Gram"
   ]
  },
  {
   "cell_type": "code",
   "execution_count": 1,
   "metadata": {},
   "outputs": [],
   "source": [
    "import numpy as np\n",
    "import torch\n",
    "import torch.nn as nn\n",
    "import torch.optim as optim\n",
    "import matplotlib.pyplot as plt"
   ]
  },
  {
   "cell_type": "code",
   "execution_count": 62,
   "metadata": {},
   "outputs": [],
   "source": [
    "# Model\n",
    "class Word2Vec(nn.Module):\n",
    "    def __init__(self):\n",
    "        super(Word2Vec, self).__init__()\n",
    "        self.W = nn.Linear(voc_size, embedding_size, bias=False)   \n",
    "        self.WT = nn.Linear(embedding_size, voc_size, bias=False)\n",
    "    \n",
    "    def forward(self, X):\n",
    "        # X : [batch_size, voc_size]\n",
    "        hidden_layer = self.W(X)    # hidden_layer : [batch_size, embedding_size]\n",
    "        output_layer = self.WT(hidden_layer)    # output_layer : [batch_size, voc_size]\n",
    "        return output_layer"
   ]
  },
  {
   "cell_type": "code",
   "execution_count": 63,
   "metadata": {},
   "outputs": [
    {
     "name": "stdout",
     "output_type": "stream",
     "text": [
      "tmp : 2\n",
      "tmp : 5\n"
     ]
    }
   ],
   "source": [
    "# replace : True(복원추출 - 모든 원소가 뽑힐 확률이 동일함), False(비복원추출)\n",
    "# np.random.chocie(모집단, size, replace=T or F)\n",
    "tmp_idx = np.random.choice(range(32), 2, replace=False)\n",
    "for tmp in tmp_idx:\n",
    "    print('tmp :', tmp)"
   ]
  },
  {
   "cell_type": "code",
   "execution_count": 64,
   "metadata": {},
   "outputs": [
    {
     "data": {
      "text/plain": [
       "array([0., 0., 0., 0., 1., 0., 0., 0.])"
      ]
     },
     "execution_count": 64,
     "metadata": {},
     "output_type": "execute_result"
    }
   ],
   "source": [
    "np.eye(8)[4]"
   ]
  },
  {
   "cell_type": "code",
   "execution_count": 65,
   "metadata": {},
   "outputs": [],
   "source": [
    "def random_batch():\n",
    "    random_inputs = []\n",
    "    random_labels = []\n",
    "    random_index = np.random.choice(range(len(skip_grams)), batch_size, replace=False)      # 0~31(len(skip_grams)) 중 2(batch_size)개를 랜덤으로 뽑음 (겹치치 않음)\n",
    "\n",
    "    for i in random_index:  \n",
    "        random_inputs.append(np.eye(voc_size)[skip_grams[i][0]])    # target\n",
    "        random_labels.append(skip_grams[i][1])  # context word\n",
    "\n",
    "    return random_inputs, random_labels"
   ]
  },
  {
   "cell_type": "code",
   "execution_count": 66,
   "metadata": {},
   "outputs": [],
   "source": [
    "batch_size = 2  # mini-batch size\n",
    "embedding_size = 2  # embedding size\n",
    "sentences = [\"apple banana fruit\", \"banana orange fruit\", \"orange banana fruit\", \"dog cat animal\", \"cat monkey animal\", \"monkey dog animal\"]\n",
    "\n",
    "word_sequence = \" \".join(sentences).split()\n",
    "word_list = \" \".join(sentences).split()\n",
    "word_list = list(set(word_list))    # 중복제거\n",
    "word_dict = {w:i for i,w in enumerate(word_list)}\n",
    "idx2word = {i:w for i,w in enumerate(word_list)}\n",
    "voc_size = len(word_list)"
   ]
  },
  {
   "cell_type": "code",
   "execution_count": 67,
   "metadata": {},
   "outputs": [
    {
     "name": "stdout",
     "output_type": "stream",
     "text": [
      "word dict : {'fruit': 0, 'apple': 1, 'monkey': 2, 'animal': 3, 'banana': 4, 'dog': 5, 'cat': 6, 'orange': 7}\n",
      "vocab size : 8\n",
      "word sequence : ['apple', 'banana', 'fruit', 'banana', 'orange', 'fruit', 'orange', 'banana', 'fruit', 'dog', 'cat', 'animal', 'cat', 'monkey', 'animal', 'monkey', 'dog', 'animal']\n"
     ]
    }
   ],
   "source": [
    "print('word dict :', word_dict)\n",
    "print('vocab size :', voc_size)\n",
    "print('word sequence :', word_sequence)"
   ]
  },
  {
   "cell_type": "code",
   "execution_count": 68,
   "metadata": {},
   "outputs": [],
   "source": [
    "# Make skip-gram of one size window\n",
    "skip_grams = []\n",
    "for i in range(1, len(word_sequence)-1):\n",
    "    target = word_dict[word_sequence[i]]\n",
    "    context = [word_dict[word_sequence[i-1]], word_dict[word_sequence[i+1]]]\n",
    "    for w in context:\n",
    "        skip_grams.append([target, w])  # [target, 앞 단어], [target, 뒤 단어]"
   ]
  },
  {
   "cell_type": "code",
   "execution_count": 69,
   "metadata": {},
   "outputs": [
    {
     "name": "stdout",
     "output_type": "stream",
     "text": [
      "skip_gram : 32\n"
     ]
    }
   ],
   "source": [
    "print('skip_gram :', len(skip_grams))"
   ]
  },
  {
   "cell_type": "code",
   "execution_count": 70,
   "metadata": {},
   "outputs": [],
   "source": [
    "model = Word2Vec()\n",
    "\n",
    "criterion = nn.CrossEntropyLoss()   # Cost function\n",
    "optimizer = optim.Adam(model.parameters(), lr=0.001)"
   ]
  },
  {
   "cell_type": "code",
   "execution_count": 71,
   "metadata": {},
   "outputs": [
    {
     "name": "stdout",
     "output_type": "stream",
     "text": [
      "Epoch: 1000 cost = 2.029262\n",
      "Epoch: 2000 cost = 1.532641\n",
      "Epoch: 3000 cost = 1.231635\n",
      "Epoch: 4000 cost = 1.488697\n",
      "Epoch: 5000 cost = 0.712782\n"
     ]
    }
   ],
   "source": [
    "# Training\n",
    "for epoch in range(5000):\n",
    "    input_batch, target_batch = random_batch()\n",
    "    \n",
    "    input_batch = torch.Tensor(input_batch)\n",
    "    target_batch = torch.LongTensor(target_batch)\n",
    "\n",
    "    optimizer.zero_grad()\n",
    "    output = model(input_batch)\n",
    "\n",
    "    # output : [batch_size, voc_size]\n",
    "    # target_batch : [batch_size] (LongTensor, not one-hot)\n",
    "    loss = criterion(output, target_batch)\n",
    "    if (epoch+1) % 1000 == 0:\n",
    "        print('Epoch:', '%04d' % (epoch + 1), 'cost =', '{:.6f}'.format(loss))\n",
    "    \n",
    "    loss.backward()\n",
    "    optimizer.step()"
   ]
  },
  {
   "cell_type": "code",
   "execution_count": 72,
   "metadata": {},
   "outputs": [
    {
     "data": {
      "image/png": "[encoded data removed]",
      "text/plain": [
       "<Figure size 432x288 with 1 Axes>"
      ]
     },
     "metadata": {
      "needs_background": "light"
     },
     "output_type": "display_data"
    }
   ],
   "source": [
    "for i,label in enumerate(word_list):\n",
    "    W,WT = model.parameters()\n",
    "    x,y = W[0][i].item(), W[1][i].item()\n",
    "    plt.scatter(x,y)\n",
    "    plt.annotate(label, xy=(x,y), xytext=(5,2), textcoords='offset points', ha='right', va='bottom')\n",
    "plt.show()"
   ]
  },
  {
   "cell_type": "code",
   "execution_count": 73,
   "metadata": {},
   "outputs": [
    {
     "data": {
      "text/plain": [
       "torch.Size([1, 2, 8])"
      ]
     },
     "execution_count": 73,
     "metadata": {},
     "output_type": "execute_result"
    }
   ],
   "source": [
    "sample_id = [[word_dict[i] for i in [\"banana\", \"cat\"]]]\n",
    "sample = []\n",
    "for id in sample_id:\n",
    "    sample.append(np.eye(voc_size)[id])\n",
    "\n",
    "sample = torch.Tensor(sample)\n",
    "sample.shape"
   ]
  },
  {
   "cell_type": "code",
   "execution_count": 82,
   "metadata": {},
   "outputs": [
    {
     "name": "stdout",
     "output_type": "stream",
     "text": [
      "origin :  banana -> fruit\n",
      "origin :  cat -> animal\n"
     ]
    }
   ],
   "source": [
    "output = model(sample)\n",
    "\n",
    "# output_layer : [batch_size, voc_size]\n",
    "for i in range(2):\n",
    "    print('origin : ', idx2word[sample_id[0][i]], end=' -> ')\n",
    "    target = torch.argmax(output[0][i])\n",
    "    #print(output[0][i])\n",
    "    print(idx2word[target.item()])"
   ]
  },
  {
   "cell_type": "code",
   "execution_count": null,
   "metadata": {},
   "outputs": [],
   "source": []
  }
 ],
 "metadata": {
  "interpreter": {
   "hash": "975adaa33bdd6241222e23cb1553fcd899050d10dc86e144a6598f19462bc660"
  },
  "kernelspec": {
   "display_name": "Python 3.9.7 64-bit ('zeze': conda)",
   "language": "python",
   "name": "python3"
  },
  "language_info": {
   "codemirror_mode": {
    "name": "ipython",
    "version": 3
   },
   "file_extension": ".py",
   "mimetype": "text/x-python",
   "name": "python",
   "nbconvert_exporter": "python",
   "pygments_lexer": "ipython3",
   "version": "3.9.7"
  },
  "orig_nbformat": 4
 },
 "nbformat": 4,
 "nbformat_minor": 2
}
