{
 "cells": [
  {
   "cell_type": "markdown",
   "metadata": {},
   "source": [
    "## 두 문자열 비교하기 (difflib)\n",
    "\n",
    "파이썬 표준 라이브러인 difflib의 SequenceMatcher를 사용해서 2개 문자열의 유사성을 수치화할 수 있다.\n",
    "* link : https://codetorial.net/tips_and_examples/difflib.html\n",
    "\n",
    "단점 : 큰 문자열에 속도가 느림"
   ]
  },
  {
   "cell_type": "code",
   "execution_count": null,
   "metadata": {},
   "outputs": [],
   "source": [
    "from difflib import SequenceMatcher\n",
    "\n",
    "str1 = '안녕하세요.'\n",
    "str2 = '안녕하세요.'\n",
    "str3 = '오늘 날씨 어때요?'\n",
    "\n",
    "ratio = SequenceMatcher(None, str1, str2).ratio()\n",
    "print(ratio)"
   ]
  },
  {
   "cell_type": "code",
   "execution_count": null,
   "metadata": {},
   "outputs": [],
   "source": [
    "ratio = SequenceMatcher(None, str1, str3).ratio()\n",
    "print(ratio)"
   ]
  },
  {
   "cell_type": "markdown",
   "metadata": {},
   "source": [
    "## Google - Diff Match and Patch libraries\n",
    "\n",
    "* https://pypi.org/project/diff-match-patch/\n",
    "* api 설명 : https://github.com/google/diff-match-patch/wiki/API\n",
    "\n",
    "구글에서 만든 diff 계산해주는 api이다.\n",
    "이 라이브러리는 Myer's diff algorithm을 구현한 알고리즘으로 본 알고리즘은 일반적으로 최고 성능을 보이고 가장 범용적으로 쓰이는 알고리즘이다.\n",
    "\n",
    "### Myer's diff algorithm\n",
    "* 시간복잡도 : O(N)\n",
    "* 하나의 제안된 최적화는 양쪽 끝에서 동시에 차이점을 처리하고 중간에서 만나는 것이다. 대부분의 경우 성능은 50%까지 향상된다. "
   ]
  },
  {
   "cell_type": "code",
   "execution_count": null,
   "metadata": {},
   "outputs": [],
   "source": [
    "from diff_match_patch import diff_match_patch"
   ]
  },
  {
   "cell_type": "code",
   "execution_count": null,
   "metadata": {},
   "outputs": [],
   "source": [
    "path = \"C:/Users/suljeewoo/PycharmProjects/sample_cmp/\"\n",
    "\n",
    "# text 파일 read\n",
    "with open(path + \"1.txt\", \"r\", encoding=\"UTF-8\") as f1:\n",
    "    text1 = \"\".join(f1.readlines())\n",
    "\n",
    "with open(path + \"2.txt\", \"r\", encoding=\"UTF-8\") as f1:\n",
    "    text2 = \"\".join(f1.readlines())"
   ]
  },
  {
   "cell_type": "code",
   "execution_count": null,
   "metadata": {},
   "outputs": [],
   "source": [
    "dmp = diff_match_patch()\n",
    "dmp.Diff_Timeout = 0.0\n",
    "diff = dmp.diff_main(text1, text2, True)\n",
    "diff2 = dmp.diff_main(text1, text2, False)\n",
    "# eval = {1:'삽입', 0:'동등', -1:'삭제'}\n",
    "\n",
    "# for i,j in diff:\n",
    "#     print('{}({}) : {}'.format(i, eval[i], j))"
   ]
  },
  {
   "cell_type": "code",
   "execution_count": null,
   "metadata": {},
   "outputs": [],
   "source": [
    "# 유사도\n",
    "common_text = sum([len(txt) for op,txt in diff if op==0])   # op:1(삽입), 0(동일), -1(삭제), txt : 내용\n",
    "text_length = max(len(text1), len(text2))\n",
    "sim = common_text/text_length\n",
    "print('sim :', round(sim, 3))\n"
   ]
  },
  {
   "cell_type": "code",
   "execution_count": null,
   "metadata": {},
   "outputs": [],
   "source": [
    "def compute_sim_and_diff(text1, text2):\n",
    "    dmp = diff_match_patch()\n",
    "    diff = dmp.diff_main(text1, text2)\n",
    "\n",
    "    # 유사도\n",
    "    common_text = sum([len(txt) for op,txt in diff if op==0])   # op:1(삽입), 0(동일), -1(삭제), txt : 내용\n",
    "    text_length = max(len(text1), len(text2))\n",
    "    sim = round(common_text/text_length, 3) \n",
    "\n",
    "    return sim, diff    # 유사도, diff 리스트"
   ]
  },
  {
   "cell_type": "code",
   "execution_count": null,
   "metadata": {},
   "outputs": [],
   "source": [
    "compute_sim_and_diff(text1, text2)[0]"
   ]
  },
  {
   "cell_type": "code",
   "execution_count": null,
   "metadata": {},
   "outputs": [],
   "source": [
    "from itertools import combinations\n",
    "\n",
    "target = [i for i in range(1)]\n",
    "print('target:', target)\n",
    "combi = list(combinations(target, 2))\n",
    "print(combi)"
   ]
  },
  {
   "cell_type": "code",
   "execution_count": null,
   "metadata": {},
   "outputs": [],
   "source": [
    "if len(target) <= 1:\n",
    "    print('target:', target)"
   ]
  },
  {
   "cell_type": "code",
   "execution_count": null,
   "metadata": {},
   "outputs": [],
   "source": [
    "import pandas as pd\n",
    "\n",
    "total = []\n",
    "data = {'digest':'sha123456', 'min_sim':0.1, 'max_sim':0.9}\n",
    "data2 = {'digest':'sha33333', 'min_sim':0.21, 'max_sim':0.88}\n",
    "total.append(data)\n",
    "total.append(data2)\n",
    "\n",
    "df = pd.DataFrame(total, columns=['digest', 'min_sim', 'max_sim'])\n",
    "df"
   ]
  },
  {
   "cell_type": "code",
   "execution_count": null,
   "metadata": {},
   "outputs": [],
   "source": [
    "a1,a2 = 0,2"
   ]
  },
  {
   "cell_type": "code",
   "execution_count": null,
   "metadata": {},
   "outputs": [],
   "source": [
    "import numpy as np\n",
    "\n",
    "df = pd.DataFrame(np.random.randn(5,3),columns=['A','B','C'])\n",
    "df"
   ]
  },
  {
   "cell_type": "code",
   "execution_count": null,
   "metadata": {},
   "outputs": [],
   "source": [
    "df['A'].min()"
   ]
  },
  {
   "cell_type": "code",
   "execution_count": null,
   "metadata": {},
   "outputs": [],
   "source": [
    "df['A'].max()"
   ]
  },
  {
   "cell_type": "code",
   "execution_count": null,
   "metadata": {},
   "outputs": [],
   "source": [
    "df['A'].mean()"
   ]
  },
  {
   "cell_type": "code",
   "execution_count": null,
   "metadata": {},
   "outputs": [],
   "source": [
    "dir_path = 'C:/Users/suljeewoo/PycharmProjects/'\n",
    "df.to_excel(dir_path+'220207 digest_result/sample.xlsx', index=False)"
   ]
  },
  {
   "cell_type": "code",
   "execution_count": null,
   "metadata": {},
   "outputs": [],
   "source": [
    "nums = [1074, 1081, 1074, 1108, 1119]\n",
    "print('평균 :', sum(nums)/len(nums))"
   ]
  },
  {
   "cell_type": "code",
   "execution_count": null,
   "metadata": {},
   "outputs": [],
   "source": [
    "nums = [748,711,694,735,756]\n",
    "print('평균 :', sum(nums)/len(nums))"
   ]
  },
  {
   "cell_type": "code",
   "execution_count": null,
   "metadata": {},
   "outputs": [],
   "source": [
    "100*(728/1091)"
   ]
  },
  {
   "cell_type": "code",
   "execution_count": null,
   "metadata": {},
   "outputs": [],
   "source": [
    "import pandas as pd\n",
    "\n",
    "xlsx = pd.read_excel('C:/Users/suljeewoo/PycharmProjects/220208_digest_result/total_sim1.xlsx')\n",
    "xlsx.head()"
   ]
  },
  {
   "cell_type": "code",
   "execution_count": null,
   "metadata": {},
   "outputs": [],
   "source": [
    "import os\n",
    "import pandas as pd"
   ]
  },
  {
   "cell_type": "code",
   "execution_count": null,
   "metadata": {},
   "outputs": [],
   "source": [
    "folder_path = 'C:/Users/suljeewoo/PycharmProjects/220208_digest_result/digest_2'\n",
    "dir_list = os.listdir(folder_path)\n",
    "\n",
    "for d in dir_list:\n",
    "    df = pd.read_csv(folder_path+'/'+d)\n",
    "    mask1 = (df.sim >=0.858) & (df.sim <= 0.86)\n",
    "    df_mask = df.loc[mask1, :]\n",
    "    if len(df_mask) >= 1:\n",
    "        print(folder_path+'/'+d)\n",
    "        break"
   ]
  },
  {
   "cell_type": "code",
   "execution_count": null,
   "metadata": {},
   "outputs": [],
   "source": []
  }
 ],
 "metadata": {
  "interpreter": {
   "hash": "975adaa33bdd6241222e23cb1553fcd899050d10dc86e144a6598f19462bc660"
  },
  "kernelspec": {
   "display_name": "Python 3.9.7 64-bit ('zeze': conda)",
   "language": "python",
   "name": "python3"
  },
  "language_info": {
   "codemirror_mode": {
    "name": "ipython",
    "version": 3
   },
   "file_extension": ".py",
   "mimetype": "text/x-python",
   "name": "python",
   "nbconvert_exporter": "python",
   "pygments_lexer": "ipython3",
   "version": "3.9.7"
  },
  "orig_nbformat": 4
 },
 "nbformat": 4,
 "nbformat_minor": 2
}
