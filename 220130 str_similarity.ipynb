{
 "cells": [
  {
   "cell_type": "markdown",
   "metadata": {},
   "source": [
    "## 두 문자열 비교하기 (difflib)\n",
    "\n",
    "파이썬 표준 라이브러인 difflib의 SequenceMatcher를 사용해서 2개 문자열의 유사성을 수치화할 수 있다.\n",
    "* link : https://codetorial.net/tips_and_examples/difflib.html\n",
    "\n",
    "단점 : 큰 문자열에 속도가 느림"
   ]
  },
  {
   "cell_type": "code",
   "execution_count": 3,
   "metadata": {},
   "outputs": [
    {
     "name": "stdout",
     "output_type": "stream",
     "text": [
      "1.0\n"
     ]
    }
   ],
   "source": [
    "from difflib import SequenceMatcher\n",
    "\n",
    "str1 = '안녕하세요.'\n",
    "str2 = '안녕하세요.'\n",
    "str3 = '오늘 날씨 어때요?'\n",
    "\n",
    "ratio = SequenceMatcher(None, str1, str2).ratio()\n",
    "print(ratio)"
   ]
  },
  {
   "cell_type": "code",
   "execution_count": 4,
   "metadata": {},
   "outputs": [
    {
     "name": "stdout",
     "output_type": "stream",
     "text": [
      "0.125\n"
     ]
    }
   ],
   "source": [
    "ratio = SequenceMatcher(None, str1, str3).ratio()\n",
    "print(ratio)"
   ]
  },
  {
   "cell_type": "markdown",
   "metadata": {},
   "source": [
    "## Google - Diff Match and Patch libraries\n",
    "\n",
    "* https://pypi.org/project/diff-match-patch/\n",
    "* api 설명 : https://github.com/google/diff-match-patch/wiki/API\n",
    "\n",
    "구글에서 만든 diff 계산해주는 api이다.\n",
    "이 라이브러리는 Myer's diff algorithm을 구현한 알고리즘으로 본 알고리즘은 일반적으로 최고 성능을 보이고 가장 범용적으로 쓰이는 알고리즘이다.\n",
    "\n",
    "### Myer's diff algorithm\n",
    "* 시간복잡도 : O(N)\n",
    "* 하나의 제안된 최적화는 양쪽 끝에서 동시에 차이점을 처리하고 중간에서 만나는 것이다. 대부분의 경우 성능은 50%까지 향상된다. "
   ]
  },
  {
   "cell_type": "code",
   "execution_count": 1,
   "metadata": {},
   "outputs": [],
   "source": [
    "from diff_match_patch import diff_match_patch"
   ]
  },
  {
   "cell_type": "code",
   "execution_count": 5,
   "metadata": {},
   "outputs": [],
   "source": [
    "path = \"C:/Users/suljeewoo/PycharmProjects/sample_cmp/\"\n",
    "\n",
    "# text 파일 read\n",
    "with open(path + \"1.txt\", \"r\", encoding=\"UTF-8\") as f1:\n",
    "    text1 = \"\".join(f1.readlines())\n",
    "\n",
    "with open(path + \"2.txt\", \"r\", encoding=\"UTF-8\") as f1:\n",
    "    text2 = \"\".join(f1.readlines())"
   ]
  },
  {
   "cell_type": "code",
   "execution_count": 14,
   "metadata": {},
   "outputs": [],
   "source": [
    "dmp = diff_match_patch()\n",
    "dmp.Diff_Timeout = 0.0\n",
    "diff = dmp.diff_main(text1, text2, False)\n",
    "# print('diff :', diff)"
   ]
  },
  {
   "cell_type": "code",
   "execution_count": 15,
   "metadata": {},
   "outputs": [
    {
     "name": "stdout",
     "output_type": "stream",
     "text": [
      "sim : 0.976\n"
     ]
    }
   ],
   "source": [
    "# 유사도\n",
    "common_text = sum([len(txt) for op,txt in diff if op==0])   # op:1(삽입), 0(동일), -1(삭제), txt : 내용\n",
    "text_length = max(len(text1), len(text2))\n",
    "sim = common_text/text_length\n",
    "print('sim :', round(sim, 3))\n"
   ]
  },
  {
   "cell_type": "code",
   "execution_count": 23,
   "metadata": {},
   "outputs": [],
   "source": [
    "def compute_sim_and_diff(text1, text2):\n",
    "    dmp = diff_match_patch()\n",
    "    diff = dmp.diff_main(text1, text2, False)\n",
    "\n",
    "    # 유사도\n",
    "    common_text = sum([len(txt) for op,txt in diff if op==0])   # op:1(삽입), 0(동일), -1(삭제), txt : 내용\n",
    "    text_length = max(len(text1), len(text2))\n",
    "    sim = round(common_text/text_length, 3) \n",
    "\n",
    "    return sim, diff    # 유사도, diff 리스트"
   ]
  },
  {
   "cell_type": "code",
   "execution_count": 24,
   "metadata": {},
   "outputs": [
    {
     "data": {
      "text/plain": [
       "0.976"
      ]
     },
     "execution_count": 24,
     "metadata": {},
     "output_type": "execute_result"
    }
   ],
   "source": [
    "compute_sim_and_diff(text1, text2)[0]"
   ]
  },
  {
   "cell_type": "code",
   "execution_count": null,
   "metadata": {},
   "outputs": [],
   "source": []
  }
 ],
 "metadata": {
  "interpreter": {
   "hash": "975adaa33bdd6241222e23cb1553fcd899050d10dc86e144a6598f19462bc660"
  },
  "kernelspec": {
   "display_name": "Python 3.9.7 64-bit ('zeze': conda)",
   "language": "python",
   "name": "python3"
  },
  "language_info": {
   "codemirror_mode": {
    "name": "ipython",
    "version": 3
   },
   "file_extension": ".py",
   "mimetype": "text/x-python",
   "name": "python",
   "nbconvert_exporter": "python",
   "pygments_lexer": "ipython3",
   "version": "3.9.7"
  },
  "orig_nbformat": 4
 },
 "nbformat": 4,
 "nbformat_minor": 2
}
