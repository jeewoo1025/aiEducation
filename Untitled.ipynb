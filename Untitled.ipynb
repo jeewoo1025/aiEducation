{
 "cells": [
  {
   "cell_type": "code",
   "execution_count": 1,
   "id": "18c128a4",
   "metadata": {},
   "outputs": [
    {
     "name": "stdout",
     "output_type": "stream",
     "text": [
      "x: tensor([[[0.9155, 0.7538, 0.7413,  ..., 0.1997, 0.7905, 0.8332],\n",
      "         [0.5292, 0.9526, 0.2662,  ..., 0.2085, 0.1355, 0.6941],\n",
      "         [0.5179, 0.7528, 0.9694,  ..., 0.9126, 0.5354, 0.7234],\n",
      "         ...,\n",
      "         [0.5553, 0.5111, 0.2907,  ..., 0.1222, 0.5928, 0.6145],\n",
      "         [0.0022, 0.8943, 0.3909,  ..., 0.5504, 0.8460, 0.5149],\n",
      "         [0.8409, 0.0345, 0.4033,  ..., 0.2725, 0.0398, 0.8668]],\n",
      "\n",
      "        [[0.8515, 0.7907, 0.5980,  ..., 0.9779, 0.5576, 0.3685],\n",
      "         [0.2450, 0.8672, 0.4943,  ..., 0.4460, 0.3589, 0.4971],\n",
      "         [0.6338, 0.9536, 0.5549,  ..., 0.8209, 0.9141, 0.8633],\n",
      "         ...,\n",
      "         [0.0232, 0.6792, 0.9476,  ..., 0.9711, 0.0564, 0.4786],\n",
      "         [0.6262, 0.1934, 0.7941,  ..., 0.2227, 0.2153, 0.4392],\n",
      "         [0.0500, 0.6138, 0.9242,  ..., 0.0681, 0.4968, 0.5745]],\n",
      "\n",
      "        [[0.7629, 0.4595, 0.0694,  ..., 0.1332, 0.7272, 0.5035],\n",
      "         [0.7445, 0.7131, 0.8927,  ..., 0.3041, 0.8406, 0.8527],\n",
      "         [0.1837, 0.5572, 0.0908,  ..., 0.5313, 0.3679, 0.6272],\n",
      "         ...,\n",
      "         [0.5044, 0.9029, 0.8544,  ..., 0.6787, 0.4741, 0.1761],\n",
      "         [0.9664, 0.2067, 0.1402,  ..., 0.9863, 0.3585, 0.9982],\n",
      "         [0.7955, 0.7224, 0.9430,  ..., 0.4125, 0.3183, 0.7095]]])\n"
     ]
    },
    {
     "ename": "TypeError",
     "evalue": "unsqueeze(): argument 'input' (position 1) must be Tensor, not int",
     "output_type": "error",
     "traceback": [
      "\u001b[1;31m---------------------------------------------------------------------------\u001b[0m",
      "\u001b[1;31mTypeError\u001b[0m                                 Traceback (most recent call last)",
      "\u001b[1;32mC:\\Users\\Public\\Documents\\ESTsoft\\CreatorTemp/ipykernel_14772/149202059.py\u001b[0m in \u001b[0;36m<module>\u001b[1;34m\u001b[0m\n\u001b[0;32m      3\u001b[0m \u001b[0mx\u001b[0m \u001b[1;33m=\u001b[0m \u001b[0mtorch\u001b[0m\u001b[1;33m.\u001b[0m\u001b[0mrand\u001b[0m\u001b[1;33m(\u001b[0m\u001b[1;36m3\u001b[0m\u001b[1;33m,\u001b[0m\u001b[1;36m20\u001b[0m\u001b[1;33m,\u001b[0m\u001b[1;36m128\u001b[0m\u001b[1;33m)\u001b[0m\u001b[1;33m\u001b[0m\u001b[1;33m\u001b[0m\u001b[0m\n\u001b[0;32m      4\u001b[0m \u001b[0mprint\u001b[0m\u001b[1;33m(\u001b[0m\u001b[1;34m'x:'\u001b[0m\u001b[1;33m,\u001b[0m\u001b[0mx\u001b[0m\u001b[1;33m)\u001b[0m\u001b[1;33m\u001b[0m\u001b[1;33m\u001b[0m\u001b[0m\n\u001b[1;32m----> 5\u001b[1;33m \u001b[0mx\u001b[0m \u001b[1;33m=\u001b[0m \u001b[0mtorch\u001b[0m\u001b[1;33m.\u001b[0m\u001b[0munsqueeze\u001b[0m\u001b[1;33m(\u001b[0m\u001b[1;36m0\u001b[0m\u001b[1;33m)\u001b[0m\u001b[1;33m\u001b[0m\u001b[1;33m\u001b[0m\u001b[0m\n\u001b[0m\u001b[0;32m      6\u001b[0m \u001b[0mprint\u001b[0m\u001b[1;33m(\u001b[0m\u001b[1;34m'x:'\u001b[0m\u001b[1;33m,\u001b[0m\u001b[0mx\u001b[0m\u001b[1;33m)\u001b[0m\u001b[1;33m\u001b[0m\u001b[1;33m\u001b[0m\u001b[0m\n",
      "\u001b[1;31mTypeError\u001b[0m: unsqueeze(): argument 'input' (position 1) must be Tensor, not int"
     ]
    }
   ],
   "source": [
    "import torch\n",
    "\n",
    "x = torch.rand(3,20,128)\n",
    "print('x:',x)\n",
    "x = torch.unsqueeze(0)\n",
    "print('x:',x)"
   ]
  },
  {
   "cell_type": "code",
   "execution_count": null,
   "id": "7011d2a6",
   "metadata": {},
   "outputs": [],
   "source": []
  }
 ],
 "metadata": {
  "kernelspec": {
   "display_name": "Python 3 (ipykernel)",
   "language": "python",
   "name": "python3"
  },
  "language_info": {
   "codemirror_mode": {
    "name": "ipython",
    "version": 3
   },
   "file_extension": ".py",
   "mimetype": "text/x-python",
   "name": "python",
   "nbconvert_exporter": "python",
   "pygments_lexer": "ipython3",
   "version": "3.7.11"
  }
 },
 "nbformat": 4,
 "nbformat_minor": 5
}
