{
 "cells": [
  {
   "cell_type": "markdown",
   "metadata": {},
   "source": [
    "# OT\n",
    "\n",
    "* wifi : 12345678!\n",
    "<br>\n",
    "\n",
    "- 1주차 : Python master <br>\n",
    "- 2주차 : Tensorflow <br>\n",
    "- 3주차 : 실전 프로젝트 <br>\n",
    "<br>\n",
    "\n",
    "✔ 주의사항\n",
    "- 15일, 105시간 \n",
    "- 입퇴실 서명하기 \n",
    "- 총점 80점 이상 수료증 지급 가능 (출석 12이상 시 퀴즈와 상관없이 수료 가능)\n",
    "- 출석 예외사항\n",
    "- B동 식사공간 있음\n",
    "- 조교 : 장성준 (010-8581-4779), peinguin77@gmail.com\n",
    "\n",
    "✔ Notion link : https://modulabs.notion.site/IT-ab366619ac5d40809a43efed139835a5\n",
    "\n",
    "✔ 강사 서성현: shseo@dongguk.edu, http://ailab.dongguk.edu/shseo/"
   ]
  },
  {
   "cell_type": "markdown",
   "metadata": {},
   "source": [
    "<br>\n",
    "\n",
    "# Python & Data Engineering\n",
    "\n",
    "1. Intro to Python\n",
    "2. Data Type & Variable\n",
    "3. Flow control\n",
    "4. Function\n",
    "5. Python Programming Practice"
   ]
  },
  {
   "cell_type": "markdown",
   "metadata": {},
   "source": [
    "## 1. Intro to Python\n",
    "\n",
    "입력 → Neural Network → 출력 <br>\n",
    "GPU를 사용하여 병렬적으로 연산 <br>\n",
    "\n",
    "## 2. Data type & Variable\n",
    "\n"
   ]
  }
 ],
 "metadata": {
  "kernelspec": {
   "display_name": "Python 3",
   "language": "python",
   "name": "python3"
  },
  "language_info": {
   "codemirror_mode": {
    "name": "ipython",
    "version": 3
   },
   "file_extension": ".py",
   "mimetype": "text/x-python",
   "name": "python",
   "nbconvert_exporter": "python",
   "pygments_lexer": "ipython3",
   "version": "3.7.9"
  }
 },
 "nbformat": 4,
 "nbformat_minor": 4
}
