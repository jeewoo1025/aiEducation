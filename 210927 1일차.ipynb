{
 "cells": [
  {
   "cell_type": "markdown",
   "metadata": {},
   "source": [
    "# OT\n",
    "\n",
    "* wifi : 12345678!\n",
    "<br>\n",
    "\n",
    "- 1주차 : Python master <br>\n",
    "- 2주차 : Tensorflow <br>\n",
    "- 3주차 : 실전 프로젝트 <br>\n",
    "<br>\n",
    "\n",
    "✔ 주의사항\n",
    "- 15일, 105시간 \n",
    "- 입퇴실 서명하기 \n",
    "- 총점 80점 이상 수료증 지급 가능 (출석 12이상 시 퀴즈와 상관없이 수료 가능)\n",
    "- 출석 예외사항\n",
    "- B동 식사공간 있음\n",
    "- 조교 : 장성준 (010-8581-4779), peinguin77@gmail.com\n",
    "\n",
    "✔ Notion link : https://modulabs.notion.site/IT-ab366619ac5d40809a43efed139835a5\n",
    "\n",
    "✔ 강사 서성현: shseo@dongguk.edu, http://ailab.dongguk.edu/shseo/"
   ]
  },
  {
   "cell_type": "markdown",
   "metadata": {},
   "source": [
    "<br>\n",
    "\n",
    "# Python & Data Engineering\n",
    "\n",
    "1. Intro to Python\n",
    "2. Data Type & Variable\n",
    "3. Flow control\n",
    "4. Function\n",
    "5. Python Programming Practice"
   ]
  },
  {
   "cell_type": "markdown",
   "metadata": {},
   "source": [
    "## 1. Intro to Python\n",
    "\n",
    "- 입력 → Neural Network → 출력 <br>\n",
    "- GPU를 사용하여 병렬적으로 연산 <br>\n",
    "- <b>인터프리터</b> : 프로그래머가 코드를 작성할 때 소스 코드를 읽고, 소스코드를 파싱하고, 즉석에서 명령을 해석하여 실행 <br>\n",
    "- Python 설치 = 인터프리터 설치 \n",
    "\n",
    "### Anaconda\n",
    "base : 글로벌 인터프리터"
   ]
  },
  {
   "cell_type": "code",
   "execution_count": 1,
   "metadata": {},
   "outputs": [],
   "source": [
    "# edit mode ; Enter\n",
    "# command mode : esc\n",
    "\n",
    "# 셀 추가 \n",
    "# 현재 셀 위로 : a\n",
    "# 현재 살 아래로 : b\n",
    "\n",
    "# 셀 삭제 : dd\n",
    "\n",
    "# 선택할 셀을 \n",
    "# 복사하기 : c\n",
    "# 잘라내기 : x\n",
    "\n",
    "# 셀 붙여넣기\n",
    "# 선택한 셀 위로 : Shift + v\n",
    "# 선택한 셀 아래로 : v\n",
    "\n",
    "# 셀에 라인 추가하기 : 1\n",
    "\n",
    "# 셀 변경하기\n",
    "# code : y\n",
    "# markdown : m\n",
    "\n",
    "# 해당 셀 실행하기 : Ctrl + Enter\n",
    "# 해당 셀을 실행하고 아래에 셀 선택 : Shift+Enter\n",
    "\n",
    "# 코드 자동 완성 : Tab\n",
    "# 함수 및 변수 설명 : Shift + Tab\n",
    "# 함수 및 변수 설명 : ?"
   ]
  },
  {
   "cell_type": "code",
   "execution_count": 2,
   "metadata": {},
   "outputs": [],
   "source": [
    "from copy import deepcopy\n",
    "\n",
    "graph = {'A': ['B', 'C', 'D'],\n",
    "         'B': ['E', 'F'],\n",
    "         'C': ['G'],\n",
    "         'D': ['G'],\n",
    "         'E': [],\n",
    "         'F': ['G'],\n",
    "         'G': []}"
   ]
  },
  {
   "cell_type": "code",
   "execution_count": 3,
   "metadata": {},
   "outputs": [],
   "source": [
    "def print_list(X, open_list, closed):\n",
    "    print(\"----------\")\n",
    "    print(\"X =\", X)\n",
    "    print('open :', open_list)\n",
    "    print('closed :', closed)"
   ]
  },
  {
   "cell_type": "code",
   "execution_count": null,
   "metadata": {},
   "outputs": [],
   "source": []
  }
 ],
 "metadata": {
  "kernelspec": {
   "display_name": "Python 3",
   "language": "python",
   "name": "python3"
  },
  "language_info": {
   "codemirror_mode": {
    "name": "ipython",
    "version": 3
   },
   "file_extension": ".py",
   "mimetype": "text/x-python",
   "name": "python",
   "nbconvert_exporter": "python",
   "pygments_lexer": "ipython3",
   "version": "3.7.9"
  }
 },
 "nbformat": 4,
 "nbformat_minor": 4
}
